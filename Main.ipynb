{
 "cells": [
  {
   "cell_type": "markdown",
   "metadata": {},
   "source": [
    "# Bullying recognition from Tweeter Corpus, build on recent events"
   ]
  },
  {
   "cell_type": "markdown",
   "metadata": {},
   "source": [
    "## Imports "
   ]
  },
  {
   "cell_type": "code",
   "execution_count": 61,
   "metadata": {
    "collapsed": true
   },
   "outputs": [],
   "source": [
    "# Load libraries\n",
    "import pandas as pd \n",
    "from pandas import DataFrame\n",
    "from pandas.tools.plotting import scatter_matrix\n",
    "import matplotlib.pyplot as plt\n",
    "import sklearn\n",
    "from sklearn import tree \n",
    "from sklearn.tree import DecisionTreeRegressor, DecisionTreeClassifier\n",
    "from sklearn import model_selection\n",
    "from sklearn.metrics import classification_report\n",
    "from sklearn.metrics import confusion_matrix\n",
    "from sklearn.metrics import accuracy_score\n",
    "from sklearn.linear_model import LogisticRegression\n",
    "from sklearn.tree import DecisionTreeClassifier\n",
    "from sklearn.neighbors import KNeighborsClassifier\n",
    "from sklearn.discriminant_analysis import LinearDiscriminantAnalysis\n",
    "from sklearn.naive_bayes import GaussianNB\n",
    "from sklearn.svm import SVC\n",
    "import requests\n",
    "from geopy.geocoders import Nominatim\n",
    "from geopy.distance import vincenty\n",
    "import json\n",
    "import difflib\n",
    "import copy\n",
    "from pprint import pprint\n",
    "import csv\n",
    "import numpy as np\n",
    "import re\n",
    "import csv\n",
    "import json\n",
    "import xlwt\n",
    "import re\n",
    "import warnings\n",
    "warnings.filterwarnings('ignore')"
   ]
  },
  {
   "cell_type": "markdown",
   "metadata": {},
   "source": [
    "# 1. Program Execution"
   ]
  },
  {
   "cell_type": "markdown",
   "metadata": {
    "collapsed": true
   },
   "source": [
    "Before starting data execution in Section one, all functions in section 2-3 should be run "
   ]
  },
  {
   "cell_type": "markdown",
   "metadata": {},
   "source": [
    "## 1.1 Data Preprocessing"
   ]
  },
  {
   "cell_type": "code",
   "execution_count": 72,
   "metadata": {
    "collapsed": true
   },
   "outputs": [],
   "source": [
    "# 1 Parse File with tweets json\n",
    "TweetsJsonArray=ParseFileIntoJson('pythontest1.json')"
   ]
  },
  {
   "cell_type": "code",
   "execution_count": null,
   "metadata": {
    "collapsed": true
   },
   "outputs": [],
   "source": [
    "book = xlwt.Workbook()\n",
    "sheet1 = book.add_sheet(\"Sheet1\",cell_overwrite_ok=True)\n",
    "book.save(\"TweetCorpusExel.xls\")\n",
    "# 2 Pocess Json, Write in Exel\n",
    "Processing(TweetsJsonArray)"
   ]
  },
  {
   "cell_type": "code",
   "execution_count": null,
   "metadata": {
    "collapsed": true
   },
   "outputs": [],
   "source": [
    "# 3 Sort Tweet for repitions retrieval and retweeters gathering\n",
    "SortExel('TweetCorpusExel.xls','TweetCorpusExel1.xls')\n",
    "# 4 Group similar tweets\n",
    "DeleteRepititions('TweetCorpusExel1.xls','TweetCorpusExel2.xls')"
   ]
  },
  {
   "cell_type": "markdown",
   "metadata": {},
   "source": [
    "## 1.2 Mashine learning "
   ]
  },
  {
   "cell_type": "code",
   "execution_count": 79,
   "metadata": {
    "collapsed": true
   },
   "outputs": [],
   "source": [
    "shapeData('TweetCorpusExelMC.xlsx')#passing manually classified set\n"
   ]
  },
  {
   "cell_type": "markdown",
   "metadata": {},
   "source": [
    "For further implementation refer Mashine learning part of the current project \n",
    "[Part4](#4)"
   ]
  },
  {
   "cell_type": "markdown",
   "metadata": {},
   "source": [
    "## 1.2 Classifying the rest of the corpus   "
   ]
  },
  {
   "cell_type": "markdown",
   "metadata": {
    "collapsed": true
   },
   "source": [
    "After Training the classifier, \n",
    "we can use the it for predicting if the class is bulllying or not for the rest of the corpus"
   ]
  },
  {
   "cell_type": "code",
   "execution_count": 80,
   "metadata": {
    "collapsed": true
   },
   "outputs": [],
   "source": [
    "#TweetCorpusExelWholeCorpus3 - preprocessed file\n",
    "writePredictionsToFile('TweetCorpusExelWholeCorpus3.xls','TweetCorpusExelWholeCorpus4.xls')\n"
   ]
  },
  {
   "cell_type": "markdown",
   "metadata": {},
   "source": [
    "After writing the predictions, location analysis could be conducted. For that refer [Part5](#5)"
   ]
  },
  {
   "cell_type": "markdown",
   "metadata": {},
   "source": [
    "# 2. Service Functions"
   ]
  },
  {
   "cell_type": "markdown",
   "metadata": {},
   "source": [
    "### The snippet of code below reads the file, which containes the tweets in json fromat, gatherered by streiming the tweeter\n"
   ]
  },
  {
   "cell_type": "code",
   "execution_count": 3,
   "metadata": {
    "collapsed": true
   },
   "outputs": [],
   "source": [
    "#Reading the file\n",
    "def ParseFileIntoJson(file):\n",
    "    TweetsJsonArray = []\n",
    "    TweetsJsonArray2 = []\n",
    "    myArray = []\n",
    "    i=0\n",
    "    with open(file) as f:\n",
    "        for line in f:\n",
    "            i=i+1\n",
    "            line2=line.lstrip()        \n",
    "            if line2!='':                \n",
    "                TweetsJsonArray.append(json.loads(line2))            \n",
    "    return TweetsJsonArray"
   ]
  },
  {
   "cell_type": "markdown",
   "metadata": {},
   "source": [
    "## 2.2 Loading Dictionaries"
   ]
  },
  {
   "cell_type": "code",
   "execution_count": 7,
   "metadata": {
    "collapsed": true
   },
   "outputs": [],
   "source": [
    "collectivenouns=[]\n",
    "pronouns=[]\n",
    "offensiveWords = dict() \n",
    "xl = pd.ExcelFile(\"Dictionary.xlsx\")\n",
    "\n",
    "df = xl.parse(\"OffensiveWords\")\n",
    "l = len(df)\n",
    "for i in range(l)[1:]:\n",
    "    offensiveWords[(df['Word'][i]).lower()]=df['Weight'][i]\n",
    "    \n",
    "df = xl.parse(\"Nouns\")\n",
    "l = len(df)\n",
    "for i in range(l)[1:]:\n",
    "    collectivenouns.append((df['Collective Nouns'][i]).lower()) \n",
    "    \n",
    "df = xl.parse(\"Pronouns\")\n",
    "l = len(df)\n",
    "for i in range(l)[1:]:\n",
    "    pronouns.append(df['Personal Pronouns'][i])"
   ]
  },
  {
   "cell_type": "markdown",
   "metadata": {},
   "source": [
    "## 2.3. Functions"
   ]
  },
  {
   "cell_type": "markdown",
   "metadata": {},
   "source": [
    "### 2. The code snippet below contains the functions, used accross the project, such as the Offensiveness level calculation, two tweets similarity calculation "
   ]
  },
  {
   "cell_type": "code",
   "execution_count": 81,
   "metadata": {
    "collapsed": true
   },
   "outputs": [],
   "source": [
    "#Counting the similarity persent of two texts\n",
    "\n",
    "import difflib\n",
    "def similar(a, b):\n",
    "    return difflib.SequenceMatcher(None, a, b).ratio()\n",
    "\n",
    "#Calculating the offinsiveness level\n",
    "\n",
    "def offensiveness_weight(TweetText):        \n",
    "        templist = TweetText.split()\n",
    "        offensiveWordsList=list(offensiveWords.keys())\n",
    "        temp = set(offensiveWordsList).intersection(templist)\n",
    "        my_list = list(temp)        \n",
    "        final = 0\n",
    "        result=0\n",
    "        \n",
    "        if len(my_list)!=0:\n",
    "            for word in my_list:                \n",
    "                final = float(final) + float(offensiveWords[word])        \n",
    "            result = final / len(my_list)\n",
    "        return result\n",
    "    \n",
    "#Identifying the existance of the words\n",
    "\n",
    "def wordpresence(TweetText,wordlist):\n",
    "    templist1= TweetText.split()    \n",
    "    temp1 = set(wordlist).intersection(templist1) \n",
    "    my_list1 = list(temp1)    \n",
    "    if len(my_list1)!=0:\n",
    "        return 1\n",
    "    else:\n",
    "        return 0\n",
    "# Counting the level of offensiveness \n",
    "def offensive_level(TweetText):\n",
    "    \n",
    "    nounsExistance = wordpresence(TweetText,collectivenouns)    \n",
    "    pronounsExistance = wordpresence(TweetText,pronouns)\n",
    "    \n",
    "    if offensiveness_weight(TweetText) > 0 and (wordpresence or pronounsExistance) :    \n",
    "        return (offensiveness_weight(TweetText) + 1)/6 * 100\n",
    "    else:\n",
    "        return (offensiveness_weight(TweetText))/6 * 100\n",
    "    \n",
    "#Count how many words from the wordlist parameter are in tweet\n",
    "def WordCount(TweetText,wordlist):\n",
    "    templist1= TweetText.split()    \n",
    "    temp1 = set(wordlist).intersection(templist1) \n",
    "    my_list1 = list(temp1)     \n",
    "    return len(my_list1)\n",
    "#Get the coordinates by textual name of the location (by address)\n",
    "def GeoLocationByTweetLocation(location):        \n",
    "    try:\n",
    "        geolocator = Nominatim()    \n",
    "        location = geolocator.geocode(location)\n",
    "        return (str(location.latitude)+\";\" +str(location.longitude))\n",
    "    except :\n",
    "        return \"\"\n",
    "#Find the distance between location in miles      \n",
    "def distance(u,v):\n",
    "    return vincenty(u, v).miles\n",
    "#Find the adress of the loction by coordinates\n",
    "def getLocationByCoordinates(c):\n",
    "    geolocator = Nominatim()\n",
    "    location = geolocator.reverse(c)\n",
    "    return location\n",
    "def writePredictionsToFile(file1,file2):\n",
    "    df = pd.read_excel(file1, sheetname='Sheet1')\n",
    "    writer = pd.ExcelWriter(file2)    \n",
    "    m = len(df)   \n",
    "    for i in range(m):       \n",
    "        a= df['Offensiveness Weight'][i]\n",
    "        b=df['Offensiveness Level'][i]\n",
    "        c = df['Sentimental Analysis'][i]\n",
    "        df['Class'][i]=dt.predict([a,b,c]) \n",
    "       \n",
    "    df.to_excel(writer,'Sheet1',index=False)\n",
    "    writer.save()\n",
    "    writer.close()"
   ]
  },
  {
   "cell_type": "markdown",
   "metadata": {},
   "source": [
    "## 2.4 Third Party Libriries"
   ]
  },
  {
   "cell_type": "code",
   "execution_count": 6,
   "metadata": {
    "collapsed": true
   },
   "outputs": [],
   "source": [
    "import requests\n",
    "# Request to third party sentimental analysis library\n",
    "def SentimentalAnalysis(tweet):\n",
    "    r = requests.post(\"http://text-processing.com/api/sentiment/\", data={'text': tweet})\n",
    "    label= r.json()['label']\n",
    "    if label =='neutral':\n",
    "        return 0\n",
    "    elif label=='pos':\n",
    "        return 1\n",
    "    else :        \n",
    "        return 2          "
   ]
  },
  {
   "cell_type": "markdown",
   "metadata": {},
   "source": [
    "# 3. Preprocessing"
   ]
  },
  {
   "cell_type": "code",
   "execution_count": 10,
   "metadata": {
    "collapsed": true
   },
   "outputs": [],
   "source": [
    "#Preprocessing the tweets and writing the content to the exel for Manual Analysis\n",
    "def Processing(TweetsJsonArray):\n",
    "    geolocator = Nominatim()\n",
    "    num=1;\n",
    "    book = xlwt.Workbook()\n",
    "    sheet1 = book.add_sheet(\"Sheet1\",cell_overwrite_ok=True)\n",
    "    row = sheet1.row(0)\n",
    "    row.write(0, 'Text')  \n",
    "    row.write(1, 'Description')    \n",
    "    row.write(2, 'Offensiveness Weight')\n",
    "    row.write(3, 'Offensiveness Level')\n",
    "    row.write(4, 'Offensive Words Amount')\n",
    "    row.write(5,'Sentimental Analysis')\n",
    "    row.write(6,'Class')\n",
    "    row.write(7,'Geo_Location')\n",
    "    row =1\n",
    "    for tweet in TweetsJsonArray:      \n",
    "        \n",
    "        if tweet['lang']==\"en\":            \n",
    "            row = sheet1.row(num)             \n",
    "            text=''\n",
    "            if 'extended_tweet' in tweet:\n",
    "                text=tweet['extended_tweet']['full_text']\n",
    "            elif 'retweeted_status' in tweet:\n",
    "                if 'extended_tweet' in tweet['retweeted_status']:\n",
    "                    text=tweet['retweeted_status']['extended_tweet']['full_text']\n",
    "                else:\n",
    "                    text=tweet['retweeted_status']['text']\n",
    "            else:\n",
    "                text=tweet['text']\n",
    "            text = re.sub('http[s]?://(?:[a-zA-Z]|[0-9]|[$-_@.&+]|[!*\\(\\),]|(?:%[0-9a-fA-F][0-9a-fA-F]))+','',text)\n",
    "            names = tweet['user']['name']\n",
    "            description = tweet['user']['description']\n",
    "            PERMITTED_CHARS = \"0123456789abcdefghijklmnopqrstuvwxyzABCDEFGHIJKLMNOPQRSTUVWXYZ_- \"\n",
    "            text = \"\".join(c for c in text if c in PERMITTED_CHARS)\n",
    "            text=text.lower()\n",
    "            text=text.strip()\n",
    "            names=\"\".join(c for c in names if c in PERMITTED_CHARS)\n",
    "            description=\"\".join(c for c in description if c in PERMITTED_CHARS) if description!= None else ''\n",
    "            description=description.lower()\n",
    "            description=description.strip() # delete beginning and ending whitespaces    \n",
    "            location=\"\"\n",
    "            if 'location' in tweet['user']:\n",
    "                if tweet['user']['location']!='nan' and tweet['user']['location']!='':\n",
    "                    location=GeoLocationByTweetLocation(tweet['user']['location'])              \n",
    "            row.write(0, text)           \n",
    "            row.write(1, description)               \n",
    "            row.write(7, location)\n",
    "            num=num+1\n",
    "\n",
    "    book.save(\"TweetCorpusExel.xls\")"
   ]
  },
  {
   "cell_type": "markdown",
   "metadata": {},
   "source": [
    "### 3.1 Sort the tweets in the file"
   ]
  },
  {
   "cell_type": "code",
   "execution_count": 52,
   "metadata": {
    "collapsed": true
   },
   "outputs": [],
   "source": [
    "#Sort exel file by text\n",
    "def SortExel(fileIn,fileOut):\n",
    "    xl = pd.ExcelFile(fileIn)\n",
    "    df = xl.parse(\"Sheet1\")\n",
    "    df = df.sort_values(by=\"Text\")\n",
    "    writer = pd.ExcelWriter(fileOut)\n",
    "    df.to_excel(writer,'Sheet1',index=False)\n",
    "    writer.save()\n",
    "    writer.close()"
   ]
  },
  {
   "cell_type": "markdown",
   "metadata": {},
   "source": [
    "### 3.2 Delete repeating tweets"
   ]
  },
  {
   "cell_type": "code",
   "execution_count": 53,
   "metadata": {
    "collapsed": true
   },
   "outputs": [],
   "source": [
    "#Group the tweets with the same text\n",
    "def DeleteRepititions(fileIn,fileOut):\n",
    "    df = pd.read_excel(fileIn, sheetname='Sheet1')\n",
    "    writer = pd.ExcelWriter(fileOut)\n",
    "    currentrow=0 #first raw with unique tweet   \n",
    "    tweet=str(df['Text'][currentrow])\n",
    "    l = len(df)\n",
    "    num=0    \n",
    "    for i in range(l)[1:]:         \n",
    "        num=num+1\n",
    "        if df['Text'][i]==tweet or similar(df['Text'][i],tweet)>0.8:        \n",
    "            if len(df['Text'][i])>len(tweet):\n",
    "                df['Text'][currentrow]=df['Text'][i]             \n",
    "            df['Text'][i]=''\n",
    "            if str(df['Geo_Location'][i])!='nan':\n",
    "                if str(df['Geo_Location'][currentrow])!='nan':\n",
    "                    df['Geo_Location'][currentrow]=str(df['Geo_Location'][currentrow])+\"&\"+str(df['Geo_Location'][i])\n",
    "                else :\n",
    "                    df['Geo_Location'][currentrow]=str(df['Geo_Location'][i])\n",
    "            if str(df['Description'][i])!='nan':            \n",
    "                    df['Text'][currentrow]=str(df['Text'][currentrow])+\" \\n <::> \"+str(df['Description'][i])\n",
    "        else:\n",
    "            if str(df['Description'][currentrow])!='nan':\n",
    "                df['Text'][currentrow]=str(df['Text'][currentrow])+\" \\n <::> \"+str(df['Description'][currentrow])\n",
    "            tweet=str(df['Text'][currentrow])\n",
    "            df['Offensiveness Weight'][currentrow]=offensiveness_weight(tweet)        \n",
    "            df['Offensiveness Level'][currentrow]=offensive_level(tweet) \n",
    "            df['Offensive Words Amount'][currentrow]=WordCount(tweet,offensiveWords)\n",
    "            df['Sentimental Analysis'][currentrow]=SentimentalAnalysis(tweet)                                    \n",
    "            currentrow=i  \n",
    "            tweet=str(df['Text'][currentrow])\n",
    "   \n",
    "    df = df[df.Text != '']   \n",
    "    df.to_excel(writer,'Sheet1',index=False)\n",
    "    writer.save()\n",
    "    writer.close()\n"
   ]
  },
  {
   "cell_type": "markdown",
   "metadata": {},
   "source": [
    "## 3.3. Preprocess data for mashine learning"
   ]
  },
  {
   "cell_type": "code",
   "execution_count": 34,
   "metadata": {
    "collapsed": true
   },
   "outputs": [],
   "source": [
    "#prepare data for mashine learning\n",
    "def shapeData(file):\n",
    "    df = pd.read_excel(file, sheetname='Sheet1')\n",
    "    writer = pd.ExcelWriter('TweetCorpusExelML.xlsx')\n",
    "    del df['Description']\n",
    "    del df['Geo_Location']\n",
    "    del df['Text']\n",
    "    del df['Offensive Words Amount']\n",
    "    df.to_excel(writer,'Sheet1',index=False)\n",
    "    writer.save()\n",
    "    writer.close()"
   ]
  },
  {
   "cell_type": "markdown",
   "metadata": {},
   "source": [
    "# 4. Maschine Learning"
   ]
  },
  {
   "cell_type": "markdown",
   "metadata": {},
   "source": [
    "<a id='4'></a>"
   ]
  },
  {
   "cell_type": "markdown",
   "metadata": {},
   "source": [
    "## 4.1 Build Models"
   ]
  },
  {
   "cell_type": "code",
   "execution_count": 42,
   "metadata": {},
   "outputs": [
    {
     "name": "stdout",
     "output_type": "stream",
     "text": [
      "    Offensiveness Weight  Offensiveness Level  Sentimental Analysis  Class\n",
      "0                    0.0             0.000000                     2      0\n",
      "1                    1.5            41.666667                     0      1\n",
      "2                    1.0            33.333333                     0      1\n",
      "3                    0.0             0.000000                     0      0\n",
      "4                    1.5            41.666667                     0      1\n",
      "5                    0.0             0.000000                     0      0\n",
      "6                    0.0             0.000000                     0      0\n",
      "7                    0.0             0.000000                     1      0\n",
      "8                    0.0             0.000000                     0      0\n",
      "9                    0.0             0.000000                     0      0\n",
      "10                   0.0             0.000000                     0      0\n",
      "11                   2.5            58.333333                     0      1\n",
      "12                   3.0            66.666667                     0      1\n",
      "13                   0.0             0.000000                     1      0\n",
      "14                   1.0            33.333333                     0      1\n",
      "15                   1.0            33.333333                     1      1\n",
      "16                   0.0             0.000000                     2      0\n",
      "17                   0.0             0.000000                     0      0\n",
      "18                   1.0            33.333333                     0      1\n",
      "19                   0.0             0.000000                     0      0\n"
     ]
    }
   ],
   "source": [
    "dataset = pd.read_excel(open('TweetCorpusExelML.xlsx','rb'), sheetname='Sheet1')\n",
    "print(dataset.head(20))"
   ]
  },
  {
   "cell_type": "code",
   "execution_count": 43,
   "metadata": {},
   "outputs": [
    {
     "name": "stdout",
     "output_type": "stream",
     "text": [
      "(332, 4)\n",
      "       Offensiveness Weight  Offensiveness Level  Sentimental Analysis  \\\n",
      "count            332.000000           332.000000            332.000000   \n",
      "mean               1.051205            25.451807              0.397590   \n",
      "std                1.388890            30.204781              0.719848   \n",
      "min                0.000000             0.000000              0.000000   \n",
      "25%                0.000000             0.000000              0.000000   \n",
      "50%                0.000000             0.000000              0.000000   \n",
      "75%                2.000000            50.000000              1.000000   \n",
      "max                5.000000           100.000000              2.000000   \n",
      "\n",
      "            Class  \n",
      "count  332.000000  \n",
      "mean     0.460843  \n",
      "std      0.499217  \n",
      "min      0.000000  \n",
      "25%      0.000000  \n",
      "50%      0.000000  \n",
      "75%      1.000000  \n",
      "max      1.000000  \n",
      "Class\n",
      "0    179\n",
      "1    153\n",
      "dtype: int64\n"
     ]
    }
   ],
   "source": [
    "print(dataset.shape)\n",
    "print(dataset.describe())\n",
    "print(dataset.groupby('Class').size())"
   ]
  },
  {
   "cell_type": "code",
   "execution_count": 44,
   "metadata": {
    "collapsed": true
   },
   "outputs": [],
   "source": [
    "array = dataset.values\n",
    "X = array[:,0:3]\n",
    "Y = array[:,3]\n",
    "validation_size = 0.20\n",
    "seed = 7\n",
    "X_train, X_validation, Y_train, Y_validation = model_selection.train_test_split(X, Y, test_size=validation_size, random_state=seed)"
   ]
  },
  {
   "cell_type": "code",
   "execution_count": 45,
   "metadata": {
    "collapsed": true
   },
   "outputs": [],
   "source": [
    "# Test options and evaluation metric\n",
    "seed = 7\n",
    "scoring = 'accuracy'\n"
   ]
  },
  {
   "cell_type": "code",
   "execution_count": 46,
   "metadata": {},
   "outputs": [
    {
     "name": "stdout",
     "output_type": "stream",
     "text": [
      "LR: 0.826068 (0.066301)\n",
      "LDA: 0.826068 (0.066301)\n",
      "KNN: 0.811111 (0.075453)\n",
      "CART: 0.814672 (0.069370)\n",
      "NB: 0.818661 (0.069617)\n",
      "SVM: 0.822222 (0.063864)\n"
     ]
    }
   ],
   "source": [
    "# Spot Check Algorithms\n",
    "models = []\n",
    "models.append(('LR', LogisticRegression()))\n",
    "models.append(('LDA', LinearDiscriminantAnalysis()))\n",
    "models.append(('KNN', KNeighborsClassifier()))\n",
    "models.append(('CART', DecisionTreeClassifier()))\n",
    "models.append(('NB', GaussianNB()))\n",
    "models.append(('SVM', SVC()))\n",
    "# evaluate each model in turn\n",
    "results = []\n",
    "names = []\n",
    "for name, model in models:\n",
    "    kfold = model_selection.KFold(n_splits=10, random_state=seed)\n",
    "    cv_results = model_selection.cross_val_score(model, X_train, Y_train, cv=kfold, scoring=scoring)\n",
    "    results.append(cv_results)\n",
    "    names.append(name)\n",
    "    msg = \"%s: %f (%f)\" % (name, cv_results.mean(), cv_results.std())\n",
    "    print(msg)"
   ]
  },
  {
   "cell_type": "markdown",
   "metadata": {},
   "source": [
    "## 4.2 Prediction Section"
   ]
  },
  {
   "cell_type": "code",
   "execution_count": 48,
   "metadata": {},
   "outputs": [
    {
     "name": "stdout",
     "output_type": "stream",
     "text": [
      "* features:\n",
      "['Offensiveness Weight', 'Offensiveness Level', 'Sentimental Analysis']\n"
     ]
    },
    {
     "data": {
      "text/plain": [
       "LogisticRegression(C=1.0, class_weight=None, dual=False, fit_intercept=True,\n",
       "          intercept_scaling=1, max_iter=100, multi_class='ovr', n_jobs=1,\n",
       "          penalty='l2', random_state=None, solver='liblinear', tol=0.0001,\n",
       "          verbose=0, warm_start=False)"
      ]
     },
     "execution_count": 48,
     "metadata": {},
     "output_type": "execute_result"
    }
   ],
   "source": [
    "df1 = pd.read_excel(open('TweetCorpusExelML.xlsx','rb'), sheetname='Sheet1')\n",
    "features = list(df1.columns[:3])\n",
    "print(\"* features:\", features, sep=\"\\n\")\n",
    "y = df1[\"Class\"]\n",
    "X = df1[features]\n",
    "dt = LogisticRegression()\n",
    "dt.fit(X, y)"
   ]
  },
  {
   "cell_type": "code",
   "execution_count": 49,
   "metadata": {},
   "outputs": [
    {
     "name": "stdout",
     "output_type": "stream",
     "text": [
      "0.805970149254\n",
      "[[28  7]\n",
      " [ 6 26]]\n",
      "             precision    recall  f1-score   support\n",
      "\n",
      "        0.0       0.82      0.80      0.81        35\n",
      "        1.0       0.79      0.81      0.80        32\n",
      "\n",
      "avg / total       0.81      0.81      0.81        67\n",
      "\n"
     ]
    }
   ],
   "source": [
    "dt = LogisticRegression()\n",
    "dt.fit(X_train, Y_train)\n",
    "predictions = dt.predict(X_validation)\n",
    "print(accuracy_score(Y_validation, predictions))\n",
    "print(confusion_matrix(Y_validation, predictions))\n",
    "print(classification_report(Y_validation, predictions))"
   ]
  },
  {
   "cell_type": "markdown",
   "metadata": {},
   "source": [
    "### Demonstartion"
   ]
  },
  {
   "cell_type": "code",
   "execution_count": null,
   "metadata": {
    "collapsed": true
   },
   "outputs": [],
   "source": [
    "TweetText = \"Book is bad\"\n",
    "y = offensive_level(TweetText)\n",
    "x = offensiveness_weight(TweetText)\n",
    "z = SentimentalAnalysis(TweetText)\n",
    "print (x)\n",
    "print  (y)\n",
    "print (z)\n",
    "print(dt.predict([x,y,z]))"
   ]
  },
  {
   "cell_type": "markdown",
   "metadata": {},
   "source": [
    "## 5 Location"
   ]
  },
  {
   "cell_type": "markdown",
   "metadata": {},
   "source": [
    "<a id='5'></a>"
   ]
  },
  {
   "cell_type": "markdown",
   "metadata": {},
   "source": [
    "#### Reading the geo locations into the array "
   ]
  },
  {
   "cell_type": "code",
   "execution_count": 65,
   "metadata": {
    "collapsed": true
   },
   "outputs": [],
   "source": [
    "df = pd.read_excel('TweetCorpusExelWholeCorpus4.xls', sheetname='Sheet1')\n",
    "df = df[df.Class== 1]  \n",
    "df = df[df.Geo_Location!=''] \n",
    "df = df[df.Geo_Location!='nan'] \n",
    "location=df['Geo_Location']\n",
    "LLTuplesLocationsArray=list()\n",
    "i=0\n",
    "LLTuplesLocationsArray=list()\n",
    "lats1=list()\n",
    "lons1=list()\n",
    "for tweetLoc in location:\n",
    "    if str(tweetLoc)!=\"nan\":\n",
    "        tweetLocArr=tweetLoc.split('&')        \n",
    "        for t in tweetLocArr:\n",
    "            ll=t.split(';')\n",
    "            LLTuplesLocationsArray.append([float(ll[0]),float(ll[1])])\n",
    "            lats1.append(float(ll[0]))\n",
    "            lons1.append(float(ll[1]))\n",
    "X = np.array(LLTuplesLocationsArray,float)"
   ]
  },
  {
   "cell_type": "markdown",
   "metadata": {},
   "source": [
    "### Performing Clustering "
   ]
  },
  {
   "cell_type": "code",
   "execution_count": 66,
   "metadata": {},
   "outputs": [
    {
     "name": "stdout",
     "output_type": "stream",
     "text": [
      "(1459, 2)\n"
     ]
    }
   ],
   "source": [
    "from matplotlib import pyplot as plt\n",
    "from scipy.cluster.hierarchy import dendrogram, linkage\n",
    "from scipy.spatial.distance import pdist\n",
    "import numpy as np\n",
    "\n",
    "print (X.shape) \n",
    "plt.scatter(X[:,0], X[:,1])\n",
    "Z = linkage(X,metric=distance)# - distance : miles between two spots"
   ]
  },
  {
   "cell_type": "markdown",
   "metadata": {},
   "source": [
    "#### Counting Cophenetic Correlation Coefficient "
   ]
  },
  {
   "cell_type": "code",
   "execution_count": 67,
   "metadata": {},
   "outputs": [
    {
     "data": {
      "text/plain": [
       "0.77572031731131097"
      ]
     },
     "execution_count": 67,
     "metadata": {},
     "output_type": "execute_result"
    }
   ],
   "source": [
    "from scipy.cluster.hierarchy import cophenet\n",
    "from scipy.spatial.distance import pdist\n",
    "# Cophenetic Correlation Coefficient - compares (correlates) the actual pairwise distances of all your samples to those implied by the hierarchical clustering\n",
    "c, coph_dists = cophenet(Z, pdist(X, distance))\n",
    "c"
   ]
  },
  {
   "cell_type": "markdown",
   "metadata": {},
   "source": [
    "####  Printing the dendogram"
   ]
  },
  {
   "cell_type": "code",
   "execution_count": 68,
   "metadata": {},
   "outputs": [
    {
     "data": {
      "image/png": "[encoded data removed]",
      "text/plain": [
       "<matplotlib.figure.Figure at 0x243e5c13780>"
      ]
     },
     "metadata": {},
     "output_type": "display_data"
    }
   ],
   "source": [
    "plt.title('Hierarchical Clustering Dendrogram (truncated)')\n",
    "plt.xlabel('sample index or (cluster size)')\n",
    "plt.ylabel('distance')\n",
    "dendrogram(\n",
    "    Z,\n",
    "    truncate_mode='lastp',  # show only the last p merged clusters\n",
    "    p=25,  # show only the last p merged clusters\n",
    "    leaf_rotation=90.,\n",
    "    leaf_font_size=12.,\n",
    "    show_contracted=True,  # to get a distribution impression in truncated branches\n",
    ")\n",
    "plt.show()"
   ]
  },
  {
   "cell_type": "code",
   "execution_count": 69,
   "metadata": {
    "collapsed": true
   },
   "outputs": [],
   "source": [
    "#Repeating the steps of agglomeration for capturing the content of the clusters on each iteration\n",
    "X2 = X.tolist()\n",
    "X3=list(map(lambda x:[x], X2))\n",
    "j=0\n",
    "for c in Z:    \n",
    "    X3.append(X3[int(c[0])])\n",
    "    ml= copy.copy(X3[len(X3)-1])\n",
    "    ml.extend(X3[int(c[1])])\n",
    "    X3[len(X3)-1]=copy.copy(ml)"
   ]
  },
  {
   "cell_type": "code",
   "execution_count": 70,
   "metadata": {
    "collapsed": true
   },
   "outputs": [],
   "source": [
    "#Saving the results of the clusterization into the exel file for manual analysis\n",
    "book = xlwt.Workbook()\n",
    "sheet1 = book.add_sheet(\"Sheet1\",cell_overwrite_ok=True)\n",
    "row = sheet1.row(0)\n",
    "row.write(0, 'first cluster')\n",
    "row.write(1, 'second cluster')\n",
    "row.write(2, 'distance')\n",
    "row.write(3, 'Number of samples')\n",
    "row.write(4, 'coordinates')\n",
    "row.write(5, 'iteration')\n",
    "i=1\n",
    "for c in Z:\n",
    "    row = sheet1.row(i)\n",
    "    row.write(0, c[0])\n",
    "    row.write(1, c[1])\n",
    "    row.write(2, c[2])\n",
    "    row.write(3, c[3])\n",
    "    row.write(4, ''.join(map(str, X3[1347+i])))\n",
    "    row.write(5, i)\n",
    "    i=i+1\n",
    "    \n",
    "book.save(\"Clusters.xls\")"
   ]
  },
  {
   "cell_type": "code",
   "execution_count": 71,
   "metadata": {},
   "outputs": [
    {
     "name": "stdout",
     "output_type": "stream",
     "text": [
      "[ 1333.  2149.     0.   500.]\n",
      "57, Via Roma, None, TO, PIE, Italia\n"
     ]
    }
   ],
   "source": [
    "print(Z[691])    \n",
    "print(getLocationByCoordinates('44.933143,7.540121'))#515"
   ]
  },
  {
   "cell_type": "code",
   "execution_count": 42,
   "metadata": {},
   "outputs": [
    {
     "name": "stdout",
     "output_type": "stream",
     "text": [
      "[ 2501.         2517.           94.0278165    77.       ]\n",
      "Jackson Township, Ocean County, New Jersey, United States of America\n",
      "New England Preferred Properties, 362, Watertown Street, Bemis, Watertown, Middlesex, Massachusetts, 02458, United States of America\n"
     ]
    }
   ],
   "source": [
    "print (Z[1178]) \n",
    "print(getLocationByCoordinates('40.0757384,-74.4041622'))\n",
    "print(getLocationByCoordinates('42.36050195,-71.2009040042125'))\n"
   ]
  },
  {
   "cell_type": "code",
   "execution_count": 43,
   "metadata": {},
   "outputs": [
    {
     "name": "stdout",
     "output_type": "stream",
     "text": [
      "[ 1519.          2426.            44.08257415   115.        ]\n",
      "Overgate Road, Swayfield CP, South Kesteven, Lincolnshire, East Midlands, England, UK\n",
      "What are you searching for?, Moor Street, Digbeth, Birmingham, West Midlands Combined Authority, West Midlands, England, B5, UK\n"
     ]
    }
   ],
   "source": [
    "print (Z[1080])\n",
    "print (getLocationByCoordinates('52.7954791, -0.540240286617432'))\n",
    "print (getLocationByCoordinates('52.478218, -1.8930052'))"
   ]
  },
  {
   "cell_type": "code",
   "execution_count": 44,
   "metadata": {},
   "outputs": [
    {
     "name": "stdout",
     "output_type": "stream",
     "text": [
      "[  594.          2418.            43.69330084   111.        ]\n",
      "Sloshes Lane, Phoenix Row, County Durham, North East England, England, UK\n"
     ]
    }
   ],
   "source": [
    "print (Z[1078])                              \n",
    "print(getLocationByCoordinates('54.666667, -1.75'))"
   ]
  },
  {
   "cell_type": "code",
   "execution_count": 45,
   "metadata": {},
   "outputs": [
    {
     "name": "stdout",
     "output_type": "stream",
     "text": [
      "[ 2473.         2476.           86.3432732   139.       ]\n",
      "Waverly Place, Farmingdale, Nassau County, New York, 11735, United States of America\n",
      "[ 1322.  2234.     0.    51.]\n",
      "County Road 491, Kanona, Decatur County, Kansas, United States of America\n",
      "[ 2360.         2367.           22.4008668    40.       ]\n",
      "SH19, Tamia, Chhindwāra, Chhindwara, Madhya Pradesh, 480559, India\n"
     ]
    }
   ],
   "source": [
    "print (Z[1161])\n",
    "print(getLocationByCoordinates('40.7317855, -73.4481361974341'))\n",
    "print(Z[887])\n",
    "print (getLocationByCoordinates('39.7837304, -100.4458825'))#51 - 464\n",
    "print (Z[1024])  \n",
    "print(getLocationByCoordinates('22.3511148, 78.6677428'))"
   ]
  },
  {
   "cell_type": "code",
   "execution_count": 50,
   "metadata": {},
   "outputs": [
    {
     "data": {
      "text/html": [
       "<iframe id=\"igraph\" scrolling=\"no\" style=\"border:none;\" seamless=\"seamless\" src=\"https://plot.ly/~mariamam/2.embed\" height=\"525px\" width=\"100%\"></iframe>"
      ],
      "text/plain": [
       "<plotly.tools.PlotlyDisplay object>"
      ]
     },
     "execution_count": 50,
     "metadata": {},
     "output_type": "execute_result"
    }
   ],
   "source": [
    "import plotly \n",
    "import matplotlib.pyplot as plt\n",
    "import plotly.plotly as py\n",
    "import plotly.plotly as py\n",
    "import plotly.graph_objs as go\n",
    "plotly.tools.set_credentials_file(username='mariamam', api_key='2Fg0f8nthJw3ZimaQ54i')\n",
    "# Learn about API authentication here: https://plot.ly/python/getting-started\n",
    "# Find your api_key here: https://plot.ly/settings/api\n",
    "data = [go.Bar(\n",
    "            x=['Italia','England, UK','New York, United States of America','Kansas, United States of America'],\n",
    "            y=[501, 226,139,51]\n",
    "    )]\n",
    "\n",
    "py.iplot(data, filename='basic-bar')"
   ]
  },
  {
   "cell_type": "code",
   "execution_count": 288,
   "metadata": {
    "collapsed": true
   },
   "outputs": [],
   "source": [
    "def drawArea(coordinatesArray):\n",
    "    lons=list()\n",
    "    lats=list()\n",
    "    for c in coordinatesArray:\n",
    "        lats.append(c[0])\n",
    "        lons.append(c[1])    \n",
    "    m = Basemap(projection='mill',llcrnrlat=-90,urcrnrlat=90,llcrnrlon=-180,urcrnrlon=180,resolution='c') \n",
    "    x, y = m(lons,lats)\n",
    "    m.drawmapboundary(fill_color='#99ffff')\n",
    "    m.fillcontinents(color='#cc9966',lake_color='#99ffff')\n",
    "    m.scatter(x,y,3,marker='o',color='k')\n",
    "    plt.title('Locations of %s ARGO floats',fontsize=12)\n",
    "    plt.figure(figsize=(100,100))\n",
    "    plt.show()"
   ]
  },
  {
   "cell_type": "markdown",
   "metadata": {},
   "source": [
    "### Diagram Analysis "
   ]
  },
  {
   "cell_type": "code",
   "execution_count": 82,
   "metadata": {},
   "outputs": [
    {
     "data": {
      "image/png": "[encoded data removed]",
      "text/plain": [
       "<matplotlib.figure.Figure at 0x243e1a807b8>"
      ]
     },
     "metadata": {},
     "output_type": "display_data"
    },
    {
     "data": {
      "text/plain": [
       "<matplotlib.figure.Figure at 0x243e4c01b70>"
      ]
     },
     "metadata": {},
     "output_type": "display_data"
    }
   ],
   "source": [
    "from netCDF4 import Dataset, num2date\n",
    "import time, calendar, datetime, numpy\n",
    "from mpl_toolkits.basemap import Basemap\n",
    "import matplotlib.pyplot as plt\n",
    "import urllib, os\n",
    "m = Basemap(projection='mill',llcrnrlat=-90,urcrnrlat=90,llcrnrlon=-180,urcrnrlon=180,resolution='c') \n",
    "x, y = m(lons1,lats1)\n",
    "m.drawmapboundary(fill_color='#99ffff')\n",
    "m.fillcontinents(color='#cc9966',lake_color='#99ffff')\n",
    "m.scatter(x,y,3,marker='o',color='k')\n",
    "plt.title('Locations of %s ARGO floats',fontsize=12)\n",
    "plt.figure(figsize=(100,100))\n",
    "plt.show()"
   ]
  }
 ],
 "metadata": {
  "kernelspec": {
   "display_name": "Python 3",
   "language": "python",
   "name": "python3"
  },
  "language_info": {
   "codemirror_mode": {
    "name": "ipython",
    "version": 3
   },
   "file_extension": ".py",
   "mimetype": "text/x-python",
   "name": "python",
   "nbconvert_exporter": "python",
   "pygments_lexer": "ipython3",
   "version": "3.6.0"
  }
 },
 "nbformat": 4,
 "nbformat_minor": 2
}
